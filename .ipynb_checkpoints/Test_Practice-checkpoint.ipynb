{
 "cells": [
  {
   "cell_type": "code",
   "execution_count": null,
   "metadata": {},
   "outputs": [],
   "source": [
    "import pandas as pd\n",
    "import IPython\n",
    "import numpy as np\n",
    "import scipy as sp\n",
    "import matplotlib as mp\n",
    "from matplotlib import pyplot as plt\n",
    "import matplotlib.cm as cm\n",
    "import seaborn as sns"
   ]
  },
  {
   "cell_type": "code",
   "execution_count": null,
   "metadata": {},
   "outputs": [],
   "source": [
    "x = np.linspace(0,10,30)\n",
    "y = np.sin(x)\n",
    "plt.plot(x,y,'o-',label='A sine wave')\n",
    "plt.legend(loc = 'lower right')\n",
    "plt.show()"
   ]
  },
  {
   "cell_type": "code",
   "execution_count": null,
   "metadata": {},
   "outputs": [],
   "source": [
    "help(filter)\n",
    "docString = filter.__doc__"
   ]
  },
  {
   "cell_type": "code",
   "execution_count": null,
   "metadata": {},
   "outputs": [],
   "source": [
    "x = np.linspace(0,10,30)\n",
    "y = np.cos(x)\n",
    "plt.plot(x,y,'o-',label='A sine wave')\n",
    "plt.legend(loc = 'lower right')\n",
    "plt.show()"
   ]
  },
  {
   "cell_type": "code",
   "execution_count": null,
   "metadata": {},
   "outputs": [],
   "source": [
    "x = np.linspace(0, 10, 30)  #array of 30 points from 0 to 10\n",
    "y = np.sin(x)\n",
    "z = y + np.random.normal(size=30) * .2\n",
    "plt.plot(x, y, 'o-', label='A sine wave')\n",
    "plt.plot(x, z, '-', label='Noisy sine')\n",
    "plt.legend(loc = 'lower right')\n",
    "plt.xlabel(\"X axis\")\n",
    "plt.ylabel(\"Y axis\")"
   ]
  },
  {
   "cell_type": "code",
   "execution_count": null,
   "metadata": {},
   "outputs": [],
   "source": [
    "# random(row,column)\n",
    "x = np.random.random((3,4))\n",
    "print (x)"
   ]
  },
  {
   "cell_type": "code",
   "execution_count": null,
   "metadata": {},
   "outputs": [],
   "source": [
    "x= x+1"
   ]
  },
  {
   "cell_type": "code",
   "execution_count": null,
   "metadata": {},
   "outputs": [],
   "source": [
    "print(x)"
   ]
  },
  {
   "cell_type": "code",
   "execution_count": null,
   "metadata": {},
   "outputs": [],
   "source": [
    "print(x[1,2])"
   ]
  },
  {
   "cell_type": "code",
   "execution_count": null,
   "metadata": {},
   "outputs": [],
   "source": [
    "print(x[0,:])"
   ]
  },
  {
   "cell_type": "code",
   "execution_count": null,
   "metadata": {},
   "outputs": [],
   "source": [
    "print(x[:,0])"
   ]
  },
  {
   "cell_type": "code",
   "execution_count": null,
   "metadata": {},
   "outputs": [],
   "source": [
    "print(x[0,-2:])"
   ]
  },
  {
   "cell_type": "code",
   "execution_count": null,
   "metadata": {},
   "outputs": [],
   "source": [
    "# binomial of getting 500 coins' head or tail\n",
    "# y = np.random.binomial(500,0.5)\n",
    "heads = []\n",
    "for i in range(500):\n",
    "    heads.append(np.random.binomial(500,0.5))\n",
    "histogram = plt.hist(heads,bins=10)"
   ]
  },
  {
   "cell_type": "code",
   "execution_count": null,
   "metadata": {},
   "outputs": [],
   "source": [
    "heads = [np.random.binomial(500,0.5) for i in range(500)]\n",
    "histogram = plt.hist(heads,bins=20)"
   ]
  },
  {
   "cell_type": "code",
   "execution_count": null,
   "metadata": {},
   "outputs": [],
   "source": [
    "heads = np.random.binomial(500,0.5, size=500)\n",
    "histogram = plt.hist(heads,bins=10)"
   ]
  },
  {
   "cell_type": "code",
   "execution_count": null,
   "metadata": {},
   "outputs": [],
   "source": [
    "heads = np.random.binomial(500,0.5, size=1000)\n",
    "# print(len(heads))\n",
    "print(heads)\n",
    "print(heads.max())\n",
    "print(heads.min())\n",
    "print(heads.mean())\n",
    "histogram = plt.hist(heads,bins=20)"
   ]
  },
  {
   "cell_type": "code",
   "execution_count": null,
   "metadata": {},
   "outputs": [],
   "source": [
    "arr = np.array([1,2,3,4])\n",
    "print(arr)\n",
    "print(arr[2:])\n",
    "print(np.mean(arr))\n",
    "np.ones(10)\n",
    "np.ones(10,dtype='int')\n",
    "np.zeros(10)\n",
    "ran = np.random.random(10)\n",
    "# print(ran+1)\n",
    "\n",
    "norm = np.random.randn(1000)\n",
    "# print(np.mean(norm))\n",
    "# print(norm+1.0)\n",
    "print(\"Mean is %f and Deviation is %f\" % (np.mean(norm),np.std(norm)))\n",
    "\n",
    "ones_2d = np.ones([3,4], dtype='int')\n",
    "ones_2d.T\n",
    "print(np.sum(ones_2d))"
   ]
  },
  {
   "cell_type": "code",
   "execution_count": null,
   "metadata": {},
   "outputs": [],
   "source": [
    "cars = np.genfromtxt('data/mtcars.csv', delimiter=',', skip_header=1, usecols=(1,2,3,4,5,6,7,8,9,10,11))\n",
    "print(cars[0:1])"
   ]
  },
  {
   "cell_type": "code",
   "execution_count": null,
   "metadata": {},
   "outputs": [],
   "source": [
    "data = pd.read_csv(\"data/mtcars.csv\")\n",
    "data"
   ]
  },
  {
   "cell_type": "code",
   "execution_count": null,
   "metadata": {},
   "outputs": [],
   "source": [
    "type(data)\n",
    "data.head()"
   ]
  },
  {
   "cell_type": "code",
   "execution_count": null,
   "metadata": {},
   "outputs": [],
   "source": [
    "data = data.rename(columns={\"Unnamed: 0\": \"name\"})\n",
    "data.head()"
   ]
  },
  {
   "cell_type": "code",
   "execution_count": null,
   "metadata": {},
   "outputs": [],
   "source": [
    "data.columns\n",
    "data.mpg.values\n",
    "data['name']"
   ]
  },
  {
   "cell_type": "code",
   "execution_count": null,
   "metadata": {},
   "outputs": [],
   "source": [
    "# bins holo CLASS INTERVAL\n",
    "plt.hist(data.mpg.values,bins=20)\n",
    "plt.xlabel(\"mpg\")\n",
    "plt.ylabel(\"Frequency\")\n",
    "plt.title(\"Miles per Gallon\")"
   ]
  },
  {
   "cell_type": "code",
   "execution_count": null,
   "metadata": {},
   "outputs": [],
   "source": [
    "data.mpg.hist(bins=20)\n",
    "plt.xlabel(\"mpg\")\n",
    "plt.ylabel(\"Frequency\")\n",
    "plt.title(\"Miles per Gallon\")"
   ]
  },
  {
   "cell_type": "code",
   "execution_count": null,
   "metadata": {},
   "outputs": [],
   "source": [
    "data[['am','gear']]\n",
    "print(len(data.gear))\n",
    "for column in data:\n",
    "    print(column)\n",
    "print(list(data.am.index))"
   ]
  },
  {
   "cell_type": "code",
   "execution_count": null,
   "metadata": {},
   "outputs": [],
   "source": [
    "data.loc[0:3]"
   ]
  },
  {
   "cell_type": "code",
   "execution_count": null,
   "metadata": {},
   "outputs": [],
   "source": [
    "data.iloc[1:3]"
   ]
  },
  {
   "cell_type": "code",
   "execution_count": null,
   "metadata": {},
   "outputs": [],
   "source": [
    "# first er ta row, r second ta column\n",
    "data.iloc[2:4,6:8]"
   ]
  },
  {
   "cell_type": "code",
   "execution_count": null,
   "metadata": {},
   "outputs": [],
   "source": [
    "data.loc[7:9,['mpg']]"
   ]
  },
  {
   "cell_type": "code",
   "execution_count": null,
   "metadata": {},
   "outputs": [],
   "source": [
    "data['maker'] = data.name.apply(lambda x: x.split()[0])\n",
    "data['maker']\n",
    "data.head()"
   ]
  },
  {
   "cell_type": "code",
   "execution_count": null,
   "metadata": {},
   "outputs": [],
   "source": []
  }
 ],
 "metadata": {
  "kernelspec": {
   "display_name": "Python 3",
   "language": "python",
   "name": "python3"
  },
  "language_info": {
   "codemirror_mode": {
    "name": "ipython",
    "version": 3
   },
   "file_extension": ".py",
   "mimetype": "text/x-python",
   "name": "python",
   "nbconvert_exporter": "python",
   "pygments_lexer": "ipython3",
   "version": "3.7.3"
  }
 },
 "nbformat": 4,
 "nbformat_minor": 2
}
