{
 "cells": [
  {
   "cell_type": "code",
   "execution_count": 1,
   "metadata": {},
   "outputs": [],
   "source": [
    "from IPython.display import HTML\n",
    "from bs4 import BeautifulSoup\n",
    "import pandas as pd\n",
    "import requests"
   ]
  },
  {
   "cell_type": "code",
   "execution_count": 2,
   "metadata": {},
   "outputs": [],
   "source": [
    "import numpy as np\n",
    "import scipy as sp\n",
    "import matplotlib as mp\n",
    "from matplotlib import pyplot as plt\n",
    "import matplotlib.cm as cm\n",
    "import seaborn as sns"
   ]
  },
  {
   "cell_type": "code",
   "execution_count": 3,
   "metadata": {},
   "outputs": [],
   "source": [
    "url = \"https://en.wikipedia.org/wiki/List_of_Game_of_Thrones_episodes\"\n",
    "response = requests.get(url)\n",
    "HTML(response.text)\n",
    "soup = BeautifulSoup(response.text, 'html5lib')"
   ]
  },
  {
   "cell_type": "code",
   "execution_count": 4,
   "metadata": {},
   "outputs": [
    {
     "data": {
      "text/plain": [
       "[<tr style=\"text-align:center\"><th colspan=\"2\" rowspan=\"2\" scope=\"col\" style=\"min-width:50px;padding:0 8px\">Season</th><th colspan=\"2\" rowspan=\"2\" scope=\"col\" style=\"padding:0 8px\">Episodes</th><th colspan=\"2\" scope=\"col\">Originally aired</th><th rowspan=\"2\" scope=\"col\" style=\"padding:0 8px\"><abbr title=\"Average\">Avg.</abbr> U.S. viewers<br/>(millions)</th></tr>,\n",
       " <tr><th scope=\"col\">First aired</th><th scope=\"col\">Last aired</th></tr>,\n",
       " <tr><td style=\"background:#295354;width:10px\"></td><th colspan=\"1\" scope=\"row\" style=\"text-align:center\"><a href=\"#Season_1_(2011)\">1</a></th><td colspan=\"2\">10</td><td colspan=\"1\" style=\"padding:0.2em 0.4em\">April 17, 2011<span style=\"display:none\"> (<span class=\"bday dtstart published updated\">2011-04-17</span>)</span></td><td style=\"padding:0 8px\">June 19, 2011<span style=\"display:none\"> (<span class=\"dtend\">2011-06-19</span>)</span></td><td>2.52<sup class=\"reference\" id=\"cite_ref-average_2_13-0\"><a href=\"#cite_note-average_2-13\">[13]</a></sup></td></tr>,\n",
       " <tr><td style=\"background:#D09916;width:10px\"></td><th colspan=\"1\" scope=\"row\" style=\"text-align:center\"><a href=\"#Season_2_(2012)\">2</a></th><td colspan=\"2\">10</td><td colspan=\"1\" style=\"padding:0.2em 0.4em\">April 1, 2012<span style=\"display:none\"> (<span class=\"bday dtstart published updated\">2012-04-01</span>)</span></td><td style=\"padding:0 8px\">June 3, 2012<span style=\"display:none\"> (<span class=\"dtend\">2012-06-03</span>)</span></td><td>3.80<sup class=\"reference\" id=\"cite_ref-average_2_13-1\"><a href=\"#cite_note-average_2-13\">[13]</a></sup></td></tr>,\n",
       " <tr><td style=\"background:#54575A;width:10px\"></td><th colspan=\"1\" scope=\"row\" style=\"text-align:center\"><a href=\"#Season_3_(2013)\">3</a></th><td colspan=\"2\">10</td><td colspan=\"1\" style=\"padding:0.2em 0.4em\">March 31, 2013<span style=\"display:none\"> (<span class=\"bday dtstart published updated\">2013-03-31</span>)</span></td><td style=\"padding:0 8px\">June 9, 2013<span style=\"display:none\"> (<span class=\"dtend\">2013-06-09</span>)</span></td><td>4.97<sup class=\"reference\" id=\"cite_ref-14\"><a href=\"#cite_note-14\">[14]</a></sup></td></tr>,\n",
       " <tr><td style=\"background:#222222;width:10px\"></td><th colspan=\"1\" scope=\"row\" style=\"text-align:center\"><a href=\"#Season_4_(2014)\">4</a></th><td colspan=\"2\">10</td><td colspan=\"1\" style=\"padding:0.2em 0.4em\">April 6, 2014<span style=\"display:none\"> (<span class=\"bday dtstart published updated\">2014-04-06</span>)</span></td><td style=\"padding:0 8px\">June 15, 2014<span style=\"display:none\"> (<span class=\"dtend\">2014-06-15</span>)</span></td><td>6.84<sup class=\"reference\" id=\"cite_ref-15\"><a href=\"#cite_note-15\">[15]</a></sup></td></tr>,\n",
       " <tr><td style=\"background:#68411C;width:10px\"></td><th colspan=\"1\" scope=\"row\" style=\"text-align:center\"><a href=\"#Season_5_(2015)\">5</a></th><td colspan=\"2\">10</td><td colspan=\"1\" style=\"padding:0.2em 0.4em\">April 12, 2015<span style=\"display:none\"> (<span class=\"bday dtstart published updated\">2015-04-12</span>)</span></td><td style=\"padding:0 8px\">June 14, 2015<span style=\"display:none\"> (<span class=\"dtend\">2015-06-14</span>)</span></td><td>6.88<sup class=\"reference\" id=\"cite_ref-16\"><a href=\"#cite_note-16\">[16]</a></sup></td></tr>,\n",
       " <tr><td style=\"background:#31485C;width:10px\"></td><th colspan=\"1\" scope=\"row\" style=\"text-align:center\"><a href=\"#Season_6_(2016)\">6</a></th><td colspan=\"2\">10</td><td colspan=\"1\" style=\"padding:0.2em 0.4em\">April 24, 2016<span style=\"display:none\"> (<span class=\"bday dtstart published updated\">2016-04-24</span>)</span></td><td style=\"padding:0 8px\">June 26, 2016<span style=\"display:none\"> (<span class=\"dtend\">2016-06-26</span>)</span></td><td>7.69<sup class=\"reference\" id=\"cite_ref-17\"><a href=\"#cite_note-17\">[17]</a></sup></td></tr>,\n",
       " <tr><td style=\"background:#091411;width:10px\"></td><th colspan=\"1\" scope=\"row\" style=\"text-align:center\"><a href=\"#Season_7_(2017)\">7</a></th><td colspan=\"2\">7</td><td colspan=\"1\" style=\"padding:0.2em 0.4em\">July 16, 2017<span style=\"display:none\"> (<span class=\"bday dtstart published updated\">2017-07-16</span>)</span></td><td style=\"padding:0 8px\">August 27, 2017<span style=\"display:none\"> (<span class=\"dtend\">2017-08-27</span>)</span></td><td>10.26<sup class=\"reference\" id=\"cite_ref-18\"><a href=\"#cite_note-18\">[18]</a></sup></td></tr>,\n",
       " <tr><td style=\"background:#3D424A;width:10px\"></td><th colspan=\"1\" scope=\"row\" style=\"text-align:center\"><a href=\"#Season_8_(2019)\">8</a></th><td colspan=\"2\">6</td><td colspan=\"1\" style=\"padding:0.2em 0.4em\">April 14, 2019<span style=\"display:none\"> (<span class=\"bday dtstart published updated\">2019-04-14</span>)</span></td><td style=\"padding:0 8px\">May 19, 2019<span style=\"display:none\"> (<span class=\"dtend\">2019-05-19</span>)</span></td><td>11.99<sup class=\"reference\" id=\"cite_ref-19\"><a href=\"#cite_note-19\">[19]</a></sup></td></tr>]"
      ]
     },
     "execution_count": 4,
     "metadata": {},
     "output_type": "execute_result"
    }
   ],
   "source": [
    "overView = soup.find_all('table', {'class': 'wikitable plainrowheaders'})\n",
    "overViewData = overView[0].find_all('tr')\n",
    "overViewData"
   ]
  },
  {
   "cell_type": "code",
   "execution_count": 5,
   "metadata": {},
   "outputs": [
    {
     "data": {
      "text/plain": [
       "[[],\n",
       " [],\n",
       " ['',\n",
       "  '10',\n",
       "  'April\\xa017,\\xa02011\\xa0(2011-04-17)',\n",
       "  'June\\xa019,\\xa02011\\xa0(2011-06-19)',\n",
       "  '2.52[13]'],\n",
       " ['',\n",
       "  '10',\n",
       "  'April\\xa01,\\xa02012\\xa0(2012-04-01)',\n",
       "  'June\\xa03,\\xa02012\\xa0(2012-06-03)',\n",
       "  '3.80[13]'],\n",
       " ['',\n",
       "  '10',\n",
       "  'March\\xa031,\\xa02013\\xa0(2013-03-31)',\n",
       "  'June\\xa09,\\xa02013\\xa0(2013-06-09)',\n",
       "  '4.97[14]'],\n",
       " ['',\n",
       "  '10',\n",
       "  'April\\xa06,\\xa02014\\xa0(2014-04-06)',\n",
       "  'June\\xa015,\\xa02014\\xa0(2014-06-15)',\n",
       "  '6.84[15]'],\n",
       " ['',\n",
       "  '10',\n",
       "  'April\\xa012,\\xa02015\\xa0(2015-04-12)',\n",
       "  'June\\xa014,\\xa02015\\xa0(2015-06-14)',\n",
       "  '6.88[16]'],\n",
       " ['',\n",
       "  '10',\n",
       "  'April\\xa024,\\xa02016\\xa0(2016-04-24)',\n",
       "  'June\\xa026,\\xa02016\\xa0(2016-06-26)',\n",
       "  '7.69[17]'],\n",
       " ['',\n",
       "  '7',\n",
       "  'July\\xa016,\\xa02017\\xa0(2017-07-16)',\n",
       "  'August\\xa027,\\xa02017\\xa0(2017-08-27)',\n",
       "  '10.26[18]'],\n",
       " ['',\n",
       "  '6',\n",
       "  'April\\xa014,\\xa02019\\xa0(2019-04-14)',\n",
       "  'May\\xa019,\\xa02019\\xa0(2019-05-19)',\n",
       "  '11.99[19]']]"
      ]
     },
     "execution_count": 5,
     "metadata": {},
     "output_type": "execute_result"
    }
   ],
   "source": [
    "tableOneData = list()\n",
    "for over in overViewData:\n",
    "    tableOneData.append([x.getText() for x in over.find_all('td')])\n",
    "tableOneData"
   ]
  },
  {
   "cell_type": "code",
   "execution_count": 6,
   "metadata": {},
   "outputs": [
    {
     "data": {
      "text/plain": [
       "['April', '17,', '2011', '(2011-04-17)']"
      ]
     },
     "execution_count": 6,
     "metadata": {},
     "output_type": "execute_result"
    }
   ],
   "source": [
    "df = pd.DataFrame(tableOneData, columns=[\n",
    "                  'Season', 'Episodes', 'First_Aired', 'Last_Aired', 'Average_US_viewers_millions'])[2:]\n",
    "#df = df.iloc[2:10] \n",
    "#df = df[2:]\n",
    "df['Season'] = 1,2,3,4,5,6,7,8\n",
    "df.dtypes\n",
    "df.First_Aired[2].split('\\xa0')"
   ]
  },
  {
   "cell_type": "code",
   "execution_count": 7,
   "metadata": {},
   "outputs": [
    {
     "data": {
      "text/html": [
       "<div>\n",
       "<style scoped>\n",
       "    .dataframe tbody tr th:only-of-type {\n",
       "        vertical-align: middle;\n",
       "    }\n",
       "\n",
       "    .dataframe tbody tr th {\n",
       "        vertical-align: top;\n",
       "    }\n",
       "\n",
       "    .dataframe thead th {\n",
       "        text-align: right;\n",
       "    }\n",
       "</style>\n",
       "<table border=\"1\" class=\"dataframe\">\n",
       "  <thead>\n",
       "    <tr style=\"text-align: right;\">\n",
       "      <th></th>\n",
       "      <th>Season</th>\n",
       "      <th>Episodes</th>\n",
       "      <th>First_Aired</th>\n",
       "      <th>Last_Aired</th>\n",
       "      <th>Average_US_viewers_millions</th>\n",
       "    </tr>\n",
       "  </thead>\n",
       "  <tbody>\n",
       "    <tr>\n",
       "      <th>2</th>\n",
       "      <td>1</td>\n",
       "      <td>10</td>\n",
       "      <td>April 17, 2011 (2011-04-17)</td>\n",
       "      <td>June 19, 2011 (2011-06-19)</td>\n",
       "      <td>2.52[13]</td>\n",
       "    </tr>\n",
       "    <tr>\n",
       "      <th>3</th>\n",
       "      <td>2</td>\n",
       "      <td>10</td>\n",
       "      <td>April 1, 2012 (2012-04-01)</td>\n",
       "      <td>June 3, 2012 (2012-06-03)</td>\n",
       "      <td>3.80[13]</td>\n",
       "    </tr>\n",
       "    <tr>\n",
       "      <th>4</th>\n",
       "      <td>3</td>\n",
       "      <td>10</td>\n",
       "      <td>March 31, 2013 (2013-03-31)</td>\n",
       "      <td>June 9, 2013 (2013-06-09)</td>\n",
       "      <td>4.97[14]</td>\n",
       "    </tr>\n",
       "    <tr>\n",
       "      <th>5</th>\n",
       "      <td>4</td>\n",
       "      <td>10</td>\n",
       "      <td>April 6, 2014 (2014-04-06)</td>\n",
       "      <td>June 15, 2014 (2014-06-15)</td>\n",
       "      <td>6.84[15]</td>\n",
       "    </tr>\n",
       "    <tr>\n",
       "      <th>6</th>\n",
       "      <td>5</td>\n",
       "      <td>10</td>\n",
       "      <td>April 12, 2015 (2015-04-12)</td>\n",
       "      <td>June 14, 2015 (2015-06-14)</td>\n",
       "      <td>6.88[16]</td>\n",
       "    </tr>\n",
       "    <tr>\n",
       "      <th>7</th>\n",
       "      <td>6</td>\n",
       "      <td>10</td>\n",
       "      <td>April 24, 2016 (2016-04-24)</td>\n",
       "      <td>June 26, 2016 (2016-06-26)</td>\n",
       "      <td>7.69[17]</td>\n",
       "    </tr>\n",
       "    <tr>\n",
       "      <th>8</th>\n",
       "      <td>7</td>\n",
       "      <td>7</td>\n",
       "      <td>July 16, 2017 (2017-07-16)</td>\n",
       "      <td>August 27, 2017 (2017-08-27)</td>\n",
       "      <td>10.26[18]</td>\n",
       "    </tr>\n",
       "    <tr>\n",
       "      <th>9</th>\n",
       "      <td>8</td>\n",
       "      <td>6</td>\n",
       "      <td>April 14, 2019 (2019-04-14)</td>\n",
       "      <td>May 19, 2019 (2019-05-19)</td>\n",
       "      <td>11.99[19]</td>\n",
       "    </tr>\n",
       "  </tbody>\n",
       "</table>\n",
       "</div>"
      ],
      "text/plain": [
       "   Season Episodes                  First_Aired                    Last_Aired  \\\n",
       "2       1       10  April 17, 2011 (2011-04-17)    June 19, 2011 (2011-06-19)   \n",
       "3       2       10   April 1, 2012 (2012-04-01)     June 3, 2012 (2012-06-03)   \n",
       "4       3       10  March 31, 2013 (2013-03-31)     June 9, 2013 (2013-06-09)   \n",
       "5       4       10   April 6, 2014 (2014-04-06)    June 15, 2014 (2014-06-15)   \n",
       "6       5       10  April 12, 2015 (2015-04-12)    June 14, 2015 (2015-06-14)   \n",
       "7       6       10  April 24, 2016 (2016-04-24)    June 26, 2016 (2016-06-26)   \n",
       "8       7        7   July 16, 2017 (2017-07-16)  August 27, 2017 (2017-08-27)   \n",
       "9       8        6  April 14, 2019 (2019-04-14)     May 19, 2019 (2019-05-19)   \n",
       "\n",
       "  Average_US_viewers_millions  \n",
       "2                    2.52[13]  \n",
       "3                    3.80[13]  \n",
       "4                    4.97[14]  \n",
       "5                    6.84[15]  \n",
       "6                    6.88[16]  \n",
       "7                    7.69[17]  \n",
       "8                   10.26[18]  \n",
       "9                   11.99[19]  "
      ]
     },
     "execution_count": 7,
     "metadata": {},
     "output_type": "execute_result"
    }
   ],
   "source": [
    "df.to_csv('Overview.csv', index=False)\n",
    "df"
   ]
  },
  {
   "cell_type": "code",
   "execution_count": 8,
   "metadata": {},
   "outputs": [
    {
     "data": {
      "text/html": [
       "<div>\n",
       "<style scoped>\n",
       "    .dataframe tbody tr th:only-of-type {\n",
       "        vertical-align: middle;\n",
       "    }\n",
       "\n",
       "    .dataframe tbody tr th {\n",
       "        vertical-align: top;\n",
       "    }\n",
       "\n",
       "    .dataframe thead th {\n",
       "        text-align: right;\n",
       "    }\n",
       "</style>\n",
       "<table border=\"1\" class=\"dataframe\">\n",
       "  <thead>\n",
       "    <tr style=\"text-align: right;\">\n",
       "      <th></th>\n",
       "      <th>Season</th>\n",
       "      <th>Episodes</th>\n",
       "      <th>First_Aired</th>\n",
       "      <th>Last_Aired</th>\n",
       "      <th>Average_US_viewers_millions</th>\n",
       "    </tr>\n",
       "  </thead>\n",
       "  <tbody>\n",
       "    <tr>\n",
       "      <th>0</th>\n",
       "      <td>1</td>\n",
       "      <td>10</td>\n",
       "      <td>April 17, 2011 (2011-04-17)</td>\n",
       "      <td>June 19, 2011 (2011-06-19)</td>\n",
       "      <td>2.52[13]</td>\n",
       "    </tr>\n",
       "    <tr>\n",
       "      <th>1</th>\n",
       "      <td>2</td>\n",
       "      <td>10</td>\n",
       "      <td>April 1, 2012 (2012-04-01)</td>\n",
       "      <td>June 3, 2012 (2012-06-03)</td>\n",
       "      <td>3.80[13]</td>\n",
       "    </tr>\n",
       "    <tr>\n",
       "      <th>2</th>\n",
       "      <td>3</td>\n",
       "      <td>10</td>\n",
       "      <td>March 31, 2013 (2013-03-31)</td>\n",
       "      <td>June 9, 2013 (2013-06-09)</td>\n",
       "      <td>4.97[14]</td>\n",
       "    </tr>\n",
       "    <tr>\n",
       "      <th>3</th>\n",
       "      <td>4</td>\n",
       "      <td>10</td>\n",
       "      <td>April 6, 2014 (2014-04-06)</td>\n",
       "      <td>June 15, 2014 (2014-06-15)</td>\n",
       "      <td>6.84[15]</td>\n",
       "    </tr>\n",
       "    <tr>\n",
       "      <th>4</th>\n",
       "      <td>5</td>\n",
       "      <td>10</td>\n",
       "      <td>April 12, 2015 (2015-04-12)</td>\n",
       "      <td>June 14, 2015 (2015-06-14)</td>\n",
       "      <td>6.88[16]</td>\n",
       "    </tr>\n",
       "    <tr>\n",
       "      <th>5</th>\n",
       "      <td>6</td>\n",
       "      <td>10</td>\n",
       "      <td>April 24, 2016 (2016-04-24)</td>\n",
       "      <td>June 26, 2016 (2016-06-26)</td>\n",
       "      <td>7.69[17]</td>\n",
       "    </tr>\n",
       "    <tr>\n",
       "      <th>6</th>\n",
       "      <td>7</td>\n",
       "      <td>7</td>\n",
       "      <td>July 16, 2017 (2017-07-16)</td>\n",
       "      <td>August 27, 2017 (2017-08-27)</td>\n",
       "      <td>10.26[18]</td>\n",
       "    </tr>\n",
       "    <tr>\n",
       "      <th>7</th>\n",
       "      <td>8</td>\n",
       "      <td>6</td>\n",
       "      <td>April 14, 2019 (2019-04-14)</td>\n",
       "      <td>May 19, 2019 (2019-05-19)</td>\n",
       "      <td>11.99[19]</td>\n",
       "    </tr>\n",
       "  </tbody>\n",
       "</table>\n",
       "</div>"
      ],
      "text/plain": [
       "   Season  Episodes                  First_Aired  \\\n",
       "0       1        10  April 17, 2011 (2011-04-17)   \n",
       "1       2        10   April 1, 2012 (2012-04-01)   \n",
       "2       3        10  March 31, 2013 (2013-03-31)   \n",
       "3       4        10   April 6, 2014 (2014-04-06)   \n",
       "4       5        10  April 12, 2015 (2015-04-12)   \n",
       "5       6        10  April 24, 2016 (2016-04-24)   \n",
       "6       7         7   July 16, 2017 (2017-07-16)   \n",
       "7       8         6  April 14, 2019 (2019-04-14)   \n",
       "\n",
       "                     Last_Aired Average_US_viewers_millions  \n",
       "0    June 19, 2011 (2011-06-19)                    2.52[13]  \n",
       "1     June 3, 2012 (2012-06-03)                    3.80[13]  \n",
       "2     June 9, 2013 (2013-06-09)                    4.97[14]  \n",
       "3    June 15, 2014 (2014-06-15)                    6.84[15]  \n",
       "4    June 14, 2015 (2015-06-14)                    6.88[16]  \n",
       "5    June 26, 2016 (2016-06-26)                    7.69[17]  \n",
       "6  August 27, 2017 (2017-08-27)                   10.26[18]  \n",
       "7     May 19, 2019 (2019-05-19)                   11.99[19]  "
      ]
     },
     "execution_count": 8,
     "metadata": {},
     "output_type": "execute_result"
    }
   ],
   "source": [
    "data = pd.read_csv('Overview.csv')\n",
    "data.dtypes\n",
    "data"
   ]
  },
  {
   "cell_type": "code",
   "execution_count": 9,
   "metadata": {},
   "outputs": [
    {
     "data": {
      "text/plain": [
       "'2011'"
      ]
     },
     "execution_count": 9,
     "metadata": {},
     "output_type": "execute_result"
    }
   ],
   "source": [
    "data.First_Aired[0].split('\\xa0')[-2]"
   ]
  },
  {
   "cell_type": "code",
   "execution_count": 10,
   "metadata": {},
   "outputs": [
    {
     "data": {
      "text/html": [
       "<div>\n",
       "<style scoped>\n",
       "    .dataframe tbody tr th:only-of-type {\n",
       "        vertical-align: middle;\n",
       "    }\n",
       "\n",
       "    .dataframe tbody tr th {\n",
       "        vertical-align: top;\n",
       "    }\n",
       "\n",
       "    .dataframe thead th {\n",
       "        text-align: right;\n",
       "    }\n",
       "</style>\n",
       "<table border=\"1\" class=\"dataframe\">\n",
       "  <thead>\n",
       "    <tr style=\"text-align: right;\">\n",
       "      <th></th>\n",
       "      <th>Season</th>\n",
       "      <th>Episodes</th>\n",
       "      <th>First_Aired</th>\n",
       "      <th>Last_Aired</th>\n",
       "      <th>Average_US_viewers_millions</th>\n",
       "      <th>First_Aired_Year</th>\n",
       "    </tr>\n",
       "  </thead>\n",
       "  <tbody>\n",
       "    <tr>\n",
       "      <th>0</th>\n",
       "      <td>1</td>\n",
       "      <td>10</td>\n",
       "      <td>April 17, 2011 (2011-04-17)</td>\n",
       "      <td>June 19, 2011 (2011-06-19)</td>\n",
       "      <td>2.52[13]</td>\n",
       "      <td>2011</td>\n",
       "    </tr>\n",
       "    <tr>\n",
       "      <th>1</th>\n",
       "      <td>2</td>\n",
       "      <td>10</td>\n",
       "      <td>April 1, 2012 (2012-04-01)</td>\n",
       "      <td>June 3, 2012 (2012-06-03)</td>\n",
       "      <td>3.80[13]</td>\n",
       "      <td>2012</td>\n",
       "    </tr>\n",
       "    <tr>\n",
       "      <th>2</th>\n",
       "      <td>3</td>\n",
       "      <td>10</td>\n",
       "      <td>March 31, 2013 (2013-03-31)</td>\n",
       "      <td>June 9, 2013 (2013-06-09)</td>\n",
       "      <td>4.97[14]</td>\n",
       "      <td>2013</td>\n",
       "    </tr>\n",
       "    <tr>\n",
       "      <th>3</th>\n",
       "      <td>4</td>\n",
       "      <td>10</td>\n",
       "      <td>April 6, 2014 (2014-04-06)</td>\n",
       "      <td>June 15, 2014 (2014-06-15)</td>\n",
       "      <td>6.84[15]</td>\n",
       "      <td>2014</td>\n",
       "    </tr>\n",
       "    <tr>\n",
       "      <th>4</th>\n",
       "      <td>5</td>\n",
       "      <td>10</td>\n",
       "      <td>April 12, 2015 (2015-04-12)</td>\n",
       "      <td>June 14, 2015 (2015-06-14)</td>\n",
       "      <td>6.88[16]</td>\n",
       "      <td>2015</td>\n",
       "    </tr>\n",
       "    <tr>\n",
       "      <th>5</th>\n",
       "      <td>6</td>\n",
       "      <td>10</td>\n",
       "      <td>April 24, 2016 (2016-04-24)</td>\n",
       "      <td>June 26, 2016 (2016-06-26)</td>\n",
       "      <td>7.69[17]</td>\n",
       "      <td>2016</td>\n",
       "    </tr>\n",
       "    <tr>\n",
       "      <th>6</th>\n",
       "      <td>7</td>\n",
       "      <td>7</td>\n",
       "      <td>July 16, 2017 (2017-07-16)</td>\n",
       "      <td>August 27, 2017 (2017-08-27)</td>\n",
       "      <td>10.26[18]</td>\n",
       "      <td>2017</td>\n",
       "    </tr>\n",
       "    <tr>\n",
       "      <th>7</th>\n",
       "      <td>8</td>\n",
       "      <td>6</td>\n",
       "      <td>April 14, 2019 (2019-04-14)</td>\n",
       "      <td>May 19, 2019 (2019-05-19)</td>\n",
       "      <td>11.99[19]</td>\n",
       "      <td>2019</td>\n",
       "    </tr>\n",
       "  </tbody>\n",
       "</table>\n",
       "</div>"
      ],
      "text/plain": [
       "   Season  Episodes                  First_Aired  \\\n",
       "0       1        10  April 17, 2011 (2011-04-17)   \n",
       "1       2        10   April 1, 2012 (2012-04-01)   \n",
       "2       3        10  March 31, 2013 (2013-03-31)   \n",
       "3       4        10   April 6, 2014 (2014-04-06)   \n",
       "4       5        10  April 12, 2015 (2015-04-12)   \n",
       "5       6        10  April 24, 2016 (2016-04-24)   \n",
       "6       7         7   July 16, 2017 (2017-07-16)   \n",
       "7       8         6  April 14, 2019 (2019-04-14)   \n",
       "\n",
       "                     Last_Aired Average_US_viewers_millions First_Aired_Year  \n",
       "0    June 19, 2011 (2011-06-19)                    2.52[13]             2011  \n",
       "1     June 3, 2012 (2012-06-03)                    3.80[13]             2012  \n",
       "2     June 9, 2013 (2013-06-09)                    4.97[14]             2013  \n",
       "3    June 15, 2014 (2014-06-15)                    6.84[15]             2014  \n",
       "4    June 14, 2015 (2015-06-14)                    6.88[16]             2015  \n",
       "5    June 26, 2016 (2016-06-26)                    7.69[17]             2016  \n",
       "6  August 27, 2017 (2017-08-27)                   10.26[18]             2017  \n",
       "7     May 19, 2019 (2019-05-19)                   11.99[19]             2019  "
      ]
     },
     "execution_count": 10,
     "metadata": {},
     "output_type": "execute_result"
    }
   ],
   "source": [
    "data['First_Aired_Year'] = data.First_Aired.apply(lambda x: x.split('\\xa0')[-2])\n",
    "data"
   ]
  },
  {
   "cell_type": "code",
   "execution_count": 11,
   "metadata": {},
   "outputs": [
    {
     "data": {
      "text/html": [
       "<div>\n",
       "<style scoped>\n",
       "    .dataframe tbody tr th:only-of-type {\n",
       "        vertical-align: middle;\n",
       "    }\n",
       "\n",
       "    .dataframe tbody tr th {\n",
       "        vertical-align: top;\n",
       "    }\n",
       "\n",
       "    .dataframe thead th {\n",
       "        text-align: right;\n",
       "    }\n",
       "</style>\n",
       "<table border=\"1\" class=\"dataframe\">\n",
       "  <thead>\n",
       "    <tr style=\"text-align: right;\">\n",
       "      <th></th>\n",
       "      <th>Season</th>\n",
       "      <th>Episodes</th>\n",
       "      <th>First_Aired</th>\n",
       "      <th>Last_Aired</th>\n",
       "      <th>Average_US_viewers_millions</th>\n",
       "      <th>First_Aired_Year</th>\n",
       "      <th>Last_Aired_Year</th>\n",
       "    </tr>\n",
       "  </thead>\n",
       "  <tbody>\n",
       "    <tr>\n",
       "      <th>0</th>\n",
       "      <td>1</td>\n",
       "      <td>10</td>\n",
       "      <td>April 17, 2011 (2011-04-17)</td>\n",
       "      <td>June 19, 2011 (2011-06-19)</td>\n",
       "      <td>2.52[13]</td>\n",
       "      <td>2011</td>\n",
       "      <td>2011</td>\n",
       "    </tr>\n",
       "    <tr>\n",
       "      <th>1</th>\n",
       "      <td>2</td>\n",
       "      <td>10</td>\n",
       "      <td>April 1, 2012 (2012-04-01)</td>\n",
       "      <td>June 3, 2012 (2012-06-03)</td>\n",
       "      <td>3.80[13]</td>\n",
       "      <td>2012</td>\n",
       "      <td>2012</td>\n",
       "    </tr>\n",
       "    <tr>\n",
       "      <th>2</th>\n",
       "      <td>3</td>\n",
       "      <td>10</td>\n",
       "      <td>March 31, 2013 (2013-03-31)</td>\n",
       "      <td>June 9, 2013 (2013-06-09)</td>\n",
       "      <td>4.97[14]</td>\n",
       "      <td>2013</td>\n",
       "      <td>2013</td>\n",
       "    </tr>\n",
       "    <tr>\n",
       "      <th>3</th>\n",
       "      <td>4</td>\n",
       "      <td>10</td>\n",
       "      <td>April 6, 2014 (2014-04-06)</td>\n",
       "      <td>June 15, 2014 (2014-06-15)</td>\n",
       "      <td>6.84[15]</td>\n",
       "      <td>2014</td>\n",
       "      <td>2014</td>\n",
       "    </tr>\n",
       "    <tr>\n",
       "      <th>4</th>\n",
       "      <td>5</td>\n",
       "      <td>10</td>\n",
       "      <td>April 12, 2015 (2015-04-12)</td>\n",
       "      <td>June 14, 2015 (2015-06-14)</td>\n",
       "      <td>6.88[16]</td>\n",
       "      <td>2015</td>\n",
       "      <td>2015</td>\n",
       "    </tr>\n",
       "    <tr>\n",
       "      <th>5</th>\n",
       "      <td>6</td>\n",
       "      <td>10</td>\n",
       "      <td>April 24, 2016 (2016-04-24)</td>\n",
       "      <td>June 26, 2016 (2016-06-26)</td>\n",
       "      <td>7.69[17]</td>\n",
       "      <td>2016</td>\n",
       "      <td>2016</td>\n",
       "    </tr>\n",
       "    <tr>\n",
       "      <th>6</th>\n",
       "      <td>7</td>\n",
       "      <td>7</td>\n",
       "      <td>July 16, 2017 (2017-07-16)</td>\n",
       "      <td>August 27, 2017 (2017-08-27)</td>\n",
       "      <td>10.26[18]</td>\n",
       "      <td>2017</td>\n",
       "      <td>2017</td>\n",
       "    </tr>\n",
       "    <tr>\n",
       "      <th>7</th>\n",
       "      <td>8</td>\n",
       "      <td>6</td>\n",
       "      <td>April 14, 2019 (2019-04-14)</td>\n",
       "      <td>May 19, 2019 (2019-05-19)</td>\n",
       "      <td>11.99[19]</td>\n",
       "      <td>2019</td>\n",
       "      <td>2019</td>\n",
       "    </tr>\n",
       "  </tbody>\n",
       "</table>\n",
       "</div>"
      ],
      "text/plain": [
       "   Season  Episodes                  First_Aired  \\\n",
       "0       1        10  April 17, 2011 (2011-04-17)   \n",
       "1       2        10   April 1, 2012 (2012-04-01)   \n",
       "2       3        10  March 31, 2013 (2013-03-31)   \n",
       "3       4        10   April 6, 2014 (2014-04-06)   \n",
       "4       5        10  April 12, 2015 (2015-04-12)   \n",
       "5       6        10  April 24, 2016 (2016-04-24)   \n",
       "6       7         7   July 16, 2017 (2017-07-16)   \n",
       "7       8         6  April 14, 2019 (2019-04-14)   \n",
       "\n",
       "                     Last_Aired Average_US_viewers_millions First_Aired_Year  \\\n",
       "0    June 19, 2011 (2011-06-19)                    2.52[13]             2011   \n",
       "1     June 3, 2012 (2012-06-03)                    3.80[13]             2012   \n",
       "2     June 9, 2013 (2013-06-09)                    4.97[14]             2013   \n",
       "3    June 15, 2014 (2014-06-15)                    6.84[15]             2014   \n",
       "4    June 14, 2015 (2015-06-14)                    6.88[16]             2015   \n",
       "5    June 26, 2016 (2016-06-26)                    7.69[17]             2016   \n",
       "6  August 27, 2017 (2017-08-27)                   10.26[18]             2017   \n",
       "7     May 19, 2019 (2019-05-19)                   11.99[19]             2019   \n",
       "\n",
       "  Last_Aired_Year  \n",
       "0            2011  \n",
       "1            2012  \n",
       "2            2013  \n",
       "3            2014  \n",
       "4            2015  \n",
       "5            2016  \n",
       "6            2017  \n",
       "7            2019  "
      ]
     },
     "execution_count": 11,
     "metadata": {},
     "output_type": "execute_result"
    }
   ],
   "source": [
    "def last(ob):\n",
    "    year = ob.split('\\xa0')[-2]\n",
    "    return year\n",
    "data['Last_Aired_Year'] = data.Last_Aired.map(last)\n",
    "data"
   ]
  },
  {
   "cell_type": "code",
   "execution_count": 12,
   "metadata": {},
   "outputs": [
    {
     "data": {
      "text/html": [
       "<div>\n",
       "<style scoped>\n",
       "    .dataframe tbody tr th:only-of-type {\n",
       "        vertical-align: middle;\n",
       "    }\n",
       "\n",
       "    .dataframe tbody tr th {\n",
       "        vertical-align: top;\n",
       "    }\n",
       "\n",
       "    .dataframe thead th {\n",
       "        text-align: right;\n",
       "    }\n",
       "</style>\n",
       "<table border=\"1\" class=\"dataframe\">\n",
       "  <thead>\n",
       "    <tr style=\"text-align: right;\">\n",
       "      <th></th>\n",
       "      <th>Season</th>\n",
       "      <th>Episodes</th>\n",
       "      <th>First_Aired</th>\n",
       "      <th>Last_Aired</th>\n",
       "      <th>Average_US_viewers_millions</th>\n",
       "      <th>First_Aired_Year</th>\n",
       "      <th>Last_Aired_Year</th>\n",
       "    </tr>\n",
       "  </thead>\n",
       "  <tbody>\n",
       "    <tr>\n",
       "      <th>0</th>\n",
       "      <td>1</td>\n",
       "      <td>10</td>\n",
       "      <td>April 17, 2011 (2011-04-17)</td>\n",
       "      <td>June 19, 2011 (2011-06-19)</td>\n",
       "      <td>2.52[13]</td>\n",
       "      <td>2011</td>\n",
       "      <td>2011</td>\n",
       "    </tr>\n",
       "    <tr>\n",
       "      <th>1</th>\n",
       "      <td>2</td>\n",
       "      <td>10</td>\n",
       "      <td>April 1, 2012 (2012-04-01)</td>\n",
       "      <td>June 3, 2012 (2012-06-03)</td>\n",
       "      <td>3.80[13]</td>\n",
       "      <td>2012</td>\n",
       "      <td>2012</td>\n",
       "    </tr>\n",
       "    <tr>\n",
       "      <th>2</th>\n",
       "      <td>3</td>\n",
       "      <td>10</td>\n",
       "      <td>March 31, 2013 (2013-03-31)</td>\n",
       "      <td>June 9, 2013 (2013-06-09)</td>\n",
       "      <td>4.97[14]</td>\n",
       "      <td>2013</td>\n",
       "      <td>2013</td>\n",
       "    </tr>\n",
       "    <tr>\n",
       "      <th>3</th>\n",
       "      <td>4</td>\n",
       "      <td>10</td>\n",
       "      <td>April 6, 2014 (2014-04-06)</td>\n",
       "      <td>June 15, 2014 (2014-06-15)</td>\n",
       "      <td>6.84[15]</td>\n",
       "      <td>2014</td>\n",
       "      <td>2014</td>\n",
       "    </tr>\n",
       "    <tr>\n",
       "      <th>4</th>\n",
       "      <td>5</td>\n",
       "      <td>10</td>\n",
       "      <td>April 12, 2015 (2015-04-12)</td>\n",
       "      <td>June 14, 2015 (2015-06-14)</td>\n",
       "      <td>6.88[16]</td>\n",
       "      <td>2015</td>\n",
       "      <td>2015</td>\n",
       "    </tr>\n",
       "    <tr>\n",
       "      <th>5</th>\n",
       "      <td>6</td>\n",
       "      <td>10</td>\n",
       "      <td>April 24, 2016 (2016-04-24)</td>\n",
       "      <td>June 26, 2016 (2016-06-26)</td>\n",
       "      <td>7.69[17]</td>\n",
       "      <td>2016</td>\n",
       "      <td>2016</td>\n",
       "    </tr>\n",
       "    <tr>\n",
       "      <th>6</th>\n",
       "      <td>7</td>\n",
       "      <td>7</td>\n",
       "      <td>July 16, 2017 (2017-07-16)</td>\n",
       "      <td>August 27, 2017 (2017-08-27)</td>\n",
       "      <td>10.26[18]</td>\n",
       "      <td>2017</td>\n",
       "      <td>2017</td>\n",
       "    </tr>\n",
       "    <tr>\n",
       "      <th>7</th>\n",
       "      <td>8</td>\n",
       "      <td>6</td>\n",
       "      <td>April 14, 2019 (2019-04-14)</td>\n",
       "      <td>May 19, 2019 (2019-05-19)</td>\n",
       "      <td>11.99[19]</td>\n",
       "      <td>2019</td>\n",
       "      <td>2019</td>\n",
       "    </tr>\n",
       "  </tbody>\n",
       "</table>\n",
       "</div>"
      ],
      "text/plain": [
       "   Season  Episodes                  First_Aired  \\\n",
       "0       1        10  April 17, 2011 (2011-04-17)   \n",
       "1       2        10   April 1, 2012 (2012-04-01)   \n",
       "2       3        10  March 31, 2013 (2013-03-31)   \n",
       "3       4        10   April 6, 2014 (2014-04-06)   \n",
       "4       5        10  April 12, 2015 (2015-04-12)   \n",
       "5       6        10  April 24, 2016 (2016-04-24)   \n",
       "6       7         7   July 16, 2017 (2017-07-16)   \n",
       "7       8         6  April 14, 2019 (2019-04-14)   \n",
       "\n",
       "                     Last_Aired Average_US_viewers_millions First_Aired_Year  \\\n",
       "0    June 19, 2011 (2011-06-19)                    2.52[13]             2011   \n",
       "1     June 3, 2012 (2012-06-03)                    3.80[13]             2012   \n",
       "2     June 9, 2013 (2013-06-09)                    4.97[14]             2013   \n",
       "3    June 15, 2014 (2014-06-15)                    6.84[15]             2014   \n",
       "4    June 14, 2015 (2015-06-14)                    6.88[16]             2015   \n",
       "5    June 26, 2016 (2016-06-26)                    7.69[17]             2016   \n",
       "6  August 27, 2017 (2017-08-27)                   10.26[18]             2017   \n",
       "7     May 19, 2019 (2019-05-19)                   11.99[19]             2019   \n",
       "\n",
       "  Last_Aired_Year  \n",
       "0            2011  \n",
       "1            2012  \n",
       "2            2013  \n",
       "3            2014  \n",
       "4            2015  \n",
       "5            2016  \n",
       "6            2017  \n",
       "7            2019  "
      ]
     },
     "execution_count": 12,
     "metadata": {},
     "output_type": "execute_result"
    }
   ],
   "source": [
    "# both are the way\n",
    "\n",
    "data['Last_Aired_Year'] = data.Last_Aired.apply(lambda x: x.split('\\xa0')[-2])\n",
    "data"
   ]
  },
  {
   "cell_type": "code",
   "execution_count": 13,
   "metadata": {},
   "outputs": [
    {
     "data": {
      "text/plain": [
       "'2.52'"
      ]
     },
     "execution_count": 13,
     "metadata": {},
     "output_type": "execute_result"
    }
   ],
   "source": [
    "data.Average_US_viewers_millions[0][:-4]"
   ]
  },
  {
   "cell_type": "code",
   "execution_count": 14,
   "metadata": {},
   "outputs": [
    {
     "data": {
      "text/html": [
       "<div>\n",
       "<style scoped>\n",
       "    .dataframe tbody tr th:only-of-type {\n",
       "        vertical-align: middle;\n",
       "    }\n",
       "\n",
       "    .dataframe tbody tr th {\n",
       "        vertical-align: top;\n",
       "    }\n",
       "\n",
       "    .dataframe thead th {\n",
       "        text-align: right;\n",
       "    }\n",
       "</style>\n",
       "<table border=\"1\" class=\"dataframe\">\n",
       "  <thead>\n",
       "    <tr style=\"text-align: right;\">\n",
       "      <th></th>\n",
       "      <th>Season</th>\n",
       "      <th>Episodes</th>\n",
       "      <th>First_Aired</th>\n",
       "      <th>Last_Aired</th>\n",
       "      <th>Average_US_viewers_millions</th>\n",
       "      <th>First_Aired_Year</th>\n",
       "      <th>Last_Aired_Year</th>\n",
       "    </tr>\n",
       "  </thead>\n",
       "  <tbody>\n",
       "    <tr>\n",
       "      <th>0</th>\n",
       "      <td>1</td>\n",
       "      <td>10</td>\n",
       "      <td>April 17, 2011 (2011-04-17)</td>\n",
       "      <td>June 19, 2011 (2011-06-19)</td>\n",
       "      <td>2.52</td>\n",
       "      <td>2011</td>\n",
       "      <td>2011</td>\n",
       "    </tr>\n",
       "    <tr>\n",
       "      <th>1</th>\n",
       "      <td>2</td>\n",
       "      <td>10</td>\n",
       "      <td>April 1, 2012 (2012-04-01)</td>\n",
       "      <td>June 3, 2012 (2012-06-03)</td>\n",
       "      <td>3.80</td>\n",
       "      <td>2012</td>\n",
       "      <td>2012</td>\n",
       "    </tr>\n",
       "    <tr>\n",
       "      <th>2</th>\n",
       "      <td>3</td>\n",
       "      <td>10</td>\n",
       "      <td>March 31, 2013 (2013-03-31)</td>\n",
       "      <td>June 9, 2013 (2013-06-09)</td>\n",
       "      <td>4.97</td>\n",
       "      <td>2013</td>\n",
       "      <td>2013</td>\n",
       "    </tr>\n",
       "    <tr>\n",
       "      <th>3</th>\n",
       "      <td>4</td>\n",
       "      <td>10</td>\n",
       "      <td>April 6, 2014 (2014-04-06)</td>\n",
       "      <td>June 15, 2014 (2014-06-15)</td>\n",
       "      <td>6.84</td>\n",
       "      <td>2014</td>\n",
       "      <td>2014</td>\n",
       "    </tr>\n",
       "    <tr>\n",
       "      <th>4</th>\n",
       "      <td>5</td>\n",
       "      <td>10</td>\n",
       "      <td>April 12, 2015 (2015-04-12)</td>\n",
       "      <td>June 14, 2015 (2015-06-14)</td>\n",
       "      <td>6.88</td>\n",
       "      <td>2015</td>\n",
       "      <td>2015</td>\n",
       "    </tr>\n",
       "    <tr>\n",
       "      <th>5</th>\n",
       "      <td>6</td>\n",
       "      <td>10</td>\n",
       "      <td>April 24, 2016 (2016-04-24)</td>\n",
       "      <td>June 26, 2016 (2016-06-26)</td>\n",
       "      <td>7.69</td>\n",
       "      <td>2016</td>\n",
       "      <td>2016</td>\n",
       "    </tr>\n",
       "    <tr>\n",
       "      <th>6</th>\n",
       "      <td>7</td>\n",
       "      <td>7</td>\n",
       "      <td>July 16, 2017 (2017-07-16)</td>\n",
       "      <td>August 27, 2017 (2017-08-27)</td>\n",
       "      <td>10.26</td>\n",
       "      <td>2017</td>\n",
       "      <td>2017</td>\n",
       "    </tr>\n",
       "    <tr>\n",
       "      <th>7</th>\n",
       "      <td>8</td>\n",
       "      <td>6</td>\n",
       "      <td>April 14, 2019 (2019-04-14)</td>\n",
       "      <td>May 19, 2019 (2019-05-19)</td>\n",
       "      <td>11.99</td>\n",
       "      <td>2019</td>\n",
       "      <td>2019</td>\n",
       "    </tr>\n",
       "  </tbody>\n",
       "</table>\n",
       "</div>"
      ],
      "text/plain": [
       "   Season  Episodes                  First_Aired  \\\n",
       "0       1        10  April 17, 2011 (2011-04-17)   \n",
       "1       2        10   April 1, 2012 (2012-04-01)   \n",
       "2       3        10  March 31, 2013 (2013-03-31)   \n",
       "3       4        10   April 6, 2014 (2014-04-06)   \n",
       "4       5        10  April 12, 2015 (2015-04-12)   \n",
       "5       6        10  April 24, 2016 (2016-04-24)   \n",
       "6       7         7   July 16, 2017 (2017-07-16)   \n",
       "7       8         6  April 14, 2019 (2019-04-14)   \n",
       "\n",
       "                     Last_Aired Average_US_viewers_millions First_Aired_Year  \\\n",
       "0    June 19, 2011 (2011-06-19)                        2.52             2011   \n",
       "1     June 3, 2012 (2012-06-03)                        3.80             2012   \n",
       "2     June 9, 2013 (2013-06-09)                        4.97             2013   \n",
       "3    June 15, 2014 (2014-06-15)                        6.84             2014   \n",
       "4    June 14, 2015 (2015-06-14)                        6.88             2015   \n",
       "5    June 26, 2016 (2016-06-26)                        7.69             2016   \n",
       "6  August 27, 2017 (2017-08-27)                       10.26             2017   \n",
       "7     May 19, 2019 (2019-05-19)                       11.99             2019   \n",
       "\n",
       "  Last_Aired_Year  \n",
       "0            2011  \n",
       "1            2012  \n",
       "2            2013  \n",
       "3            2014  \n",
       "4            2015  \n",
       "5            2016  \n",
       "6            2017  \n",
       "7            2019  "
      ]
     },
     "execution_count": 14,
     "metadata": {},
     "output_type": "execute_result"
    }
   ],
   "source": [
    "data['Average_US_viewers_millions'] = data.Average_US_viewers_millions.apply(lambda x: x[:-4])\n",
    "data"
   ]
  },
  {
   "cell_type": "code",
   "execution_count": 15,
   "metadata": {},
   "outputs": [
    {
     "data": {
      "text/plain": [
       "Season                          int64\n",
       "Episodes                        int64\n",
       "First_Aired                    object\n",
       "Last_Aired                     object\n",
       "Average_US_viewers_millions    object\n",
       "First_Aired_Year               object\n",
       "Last_Aired_Year                object\n",
       "dtype: object"
      ]
     },
     "execution_count": 15,
     "metadata": {},
     "output_type": "execute_result"
    }
   ],
   "source": [
    "data.dtypes"
   ]
  },
  {
   "cell_type": "code",
   "execution_count": 16,
   "metadata": {},
   "outputs": [],
   "source": [
    "data.Average_US_viewers_millions = data.Average_US_viewers_millions.astype(float)\n",
    "data.First_Aired_Year = data.First_Aired_Year.astype(int)\n",
    "data.Last_Aired_Year = data.Last_Aired_Year.astype(int)"
   ]
  },
  {
   "cell_type": "code",
   "execution_count": 17,
   "metadata": {},
   "outputs": [
    {
     "data": {
      "text/plain": [
       "Season                           int64\n",
       "Episodes                         int64\n",
       "First_Aired                     object\n",
       "Last_Aired                      object\n",
       "Average_US_viewers_millions    float64\n",
       "First_Aired_Year                 int64\n",
       "Last_Aired_Year                  int64\n",
       "dtype: object"
      ]
     },
     "execution_count": 17,
     "metadata": {},
     "output_type": "execute_result"
    }
   ],
   "source": [
    "data.dtypes"
   ]
  },
  {
   "cell_type": "code",
   "execution_count": 18,
   "metadata": {},
   "outputs": [
    {
     "data": {
      "text/html": [
       "<div>\n",
       "<style scoped>\n",
       "    .dataframe tbody tr th:only-of-type {\n",
       "        vertical-align: middle;\n",
       "    }\n",
       "\n",
       "    .dataframe tbody tr th {\n",
       "        vertical-align: top;\n",
       "    }\n",
       "\n",
       "    .dataframe thead th {\n",
       "        text-align: right;\n",
       "    }\n",
       "</style>\n",
       "<table border=\"1\" class=\"dataframe\">\n",
       "  <thead>\n",
       "    <tr style=\"text-align: right;\">\n",
       "      <th></th>\n",
       "      <th>Season</th>\n",
       "      <th>Episodes</th>\n",
       "      <th>First_Aired</th>\n",
       "      <th>Last_Aired</th>\n",
       "      <th>Average_US_viewers_millions</th>\n",
       "      <th>First_Aired_Year</th>\n",
       "      <th>Last_Aired_Year</th>\n",
       "    </tr>\n",
       "  </thead>\n",
       "  <tbody>\n",
       "    <tr>\n",
       "      <th>0</th>\n",
       "      <td>1</td>\n",
       "      <td>10</td>\n",
       "      <td>April 17, 2011 (2011-04-17)</td>\n",
       "      <td>June 19, 2011 (2011-06-19)</td>\n",
       "      <td>2.52</td>\n",
       "      <td>2011</td>\n",
       "      <td>2011</td>\n",
       "    </tr>\n",
       "    <tr>\n",
       "      <th>1</th>\n",
       "      <td>2</td>\n",
       "      <td>10</td>\n",
       "      <td>April 1, 2012 (2012-04-01)</td>\n",
       "      <td>June 3, 2012 (2012-06-03)</td>\n",
       "      <td>3.80</td>\n",
       "      <td>2012</td>\n",
       "      <td>2012</td>\n",
       "    </tr>\n",
       "    <tr>\n",
       "      <th>2</th>\n",
       "      <td>3</td>\n",
       "      <td>10</td>\n",
       "      <td>March 31, 2013 (2013-03-31)</td>\n",
       "      <td>June 9, 2013 (2013-06-09)</td>\n",
       "      <td>4.97</td>\n",
       "      <td>2013</td>\n",
       "      <td>2013</td>\n",
       "    </tr>\n",
       "    <tr>\n",
       "      <th>3</th>\n",
       "      <td>4</td>\n",
       "      <td>10</td>\n",
       "      <td>April 6, 2014 (2014-04-06)</td>\n",
       "      <td>June 15, 2014 (2014-06-15)</td>\n",
       "      <td>6.84</td>\n",
       "      <td>2014</td>\n",
       "      <td>2014</td>\n",
       "    </tr>\n",
       "    <tr>\n",
       "      <th>4</th>\n",
       "      <td>5</td>\n",
       "      <td>10</td>\n",
       "      <td>April 12, 2015 (2015-04-12)</td>\n",
       "      <td>June 14, 2015 (2015-06-14)</td>\n",
       "      <td>6.88</td>\n",
       "      <td>2015</td>\n",
       "      <td>2015</td>\n",
       "    </tr>\n",
       "    <tr>\n",
       "      <th>5</th>\n",
       "      <td>6</td>\n",
       "      <td>10</td>\n",
       "      <td>April 24, 2016 (2016-04-24)</td>\n",
       "      <td>June 26, 2016 (2016-06-26)</td>\n",
       "      <td>7.69</td>\n",
       "      <td>2016</td>\n",
       "      <td>2016</td>\n",
       "    </tr>\n",
       "    <tr>\n",
       "      <th>6</th>\n",
       "      <td>7</td>\n",
       "      <td>7</td>\n",
       "      <td>July 16, 2017 (2017-07-16)</td>\n",
       "      <td>August 27, 2017 (2017-08-27)</td>\n",
       "      <td>10.26</td>\n",
       "      <td>2017</td>\n",
       "      <td>2017</td>\n",
       "    </tr>\n",
       "    <tr>\n",
       "      <th>7</th>\n",
       "      <td>8</td>\n",
       "      <td>6</td>\n",
       "      <td>April 14, 2019 (2019-04-14)</td>\n",
       "      <td>May 19, 2019 (2019-05-19)</td>\n",
       "      <td>11.99</td>\n",
       "      <td>2019</td>\n",
       "      <td>2019</td>\n",
       "    </tr>\n",
       "  </tbody>\n",
       "</table>\n",
       "</div>"
      ],
      "text/plain": [
       "   Season  Episodes                  First_Aired  \\\n",
       "0       1        10  April 17, 2011 (2011-04-17)   \n",
       "1       2        10   April 1, 2012 (2012-04-01)   \n",
       "2       3        10  March 31, 2013 (2013-03-31)   \n",
       "3       4        10   April 6, 2014 (2014-04-06)   \n",
       "4       5        10  April 12, 2015 (2015-04-12)   \n",
       "5       6        10  April 24, 2016 (2016-04-24)   \n",
       "6       7         7   July 16, 2017 (2017-07-16)   \n",
       "7       8         6  April 14, 2019 (2019-04-14)   \n",
       "\n",
       "                     Last_Aired  Average_US_viewers_millions  \\\n",
       "0    June 19, 2011 (2011-06-19)                         2.52   \n",
       "1     June 3, 2012 (2012-06-03)                         3.80   \n",
       "2     June 9, 2013 (2013-06-09)                         4.97   \n",
       "3    June 15, 2014 (2014-06-15)                         6.84   \n",
       "4    June 14, 2015 (2015-06-14)                         6.88   \n",
       "5    June 26, 2016 (2016-06-26)                         7.69   \n",
       "6  August 27, 2017 (2017-08-27)                        10.26   \n",
       "7     May 19, 2019 (2019-05-19)                        11.99   \n",
       "\n",
       "   First_Aired_Year  Last_Aired_Year  \n",
       "0              2011             2011  \n",
       "1              2012             2012  \n",
       "2              2013             2013  \n",
       "3              2014             2014  \n",
       "4              2015             2015  \n",
       "5              2016             2016  \n",
       "6              2017             2017  \n",
       "7              2019             2019  "
      ]
     },
     "execution_count": 18,
     "metadata": {},
     "output_type": "execute_result"
    }
   ],
   "source": [
    "data"
   ]
  },
  {
   "cell_type": "code",
   "execution_count": 19,
   "metadata": {},
   "outputs": [
    {
     "data": {
      "text/plain": [
       "Text(0, 0.5, 'Frequency')"
      ]
     },
     "execution_count": 19,
     "metadata": {},
     "output_type": "execute_result"
    },
    {
     "data": {
      "image/png": "[encoded data removed]",
      "text/plain": [
       "<Figure size 432x288 with 1 Axes>"
      ]
     },
     "metadata": {
      "needs_background": "light"
     },
     "output_type": "display_data"
    }
   ],
   "source": [
    "plt.hist(data.Episodes,bins=10)\n",
    "plt.xlabel('Episodes')\n",
    "plt.ylabel('Frequency')"
   ]
  },
  {
   "cell_type": "code",
   "execution_count": 20,
   "metadata": {},
   "outputs": [
    {
     "data": {
      "text/plain": [
       "Text(0.5, 1.0, 'Episodes')"
      ]
     },
     "execution_count": 20,
     "metadata": {},
     "output_type": "execute_result"
    },
    {
     "data": {
      "image/png": "[encoded data removed]",
      "text/plain": [
       "<Figure size 432x288 with 1 Axes>"
      ]
     },
     "metadata": {
      "needs_background": "light"
     },
     "output_type": "display_data"
    }
   ],
   "source": [
    "data.Episodes.hist(bins=20)\n",
    "plt.xlabel('Episodes')\n",
    "plt.ylabel('Frequency')\n",
    "plt.title('Episodes')"
   ]
  },
  {
   "cell_type": "code",
   "execution_count": 21,
   "metadata": {},
   "outputs": [
    {
     "data": {
      "text/plain": [
       "<matplotlib.axes._subplots.AxesSubplot at 0x1a192cefd0>"
      ]
     },
     "execution_count": 21,
     "metadata": {},
     "output_type": "execute_result"
    },
    {
     "data": {
      "image/png": "[encoded data removed]",
      "text/plain": [
       "<Figure size 432x288 with 1 Axes>"
      ]
     },
     "metadata": {
      "needs_background": "light"
     },
     "output_type": "display_data"
    }
   ],
   "source": [
    "data.Episodes.plot(kind='barh')"
   ]
  },
  {
   "cell_type": "code",
   "execution_count": 22,
   "metadata": {},
   "outputs": [
    {
     "data": {
      "text/plain": [
       "<matplotlib.axes._subplots.AxesSubplot at 0x1a192c7668>"
      ]
     },
     "execution_count": 22,
     "metadata": {},
     "output_type": "execute_result"
    },
    {
     "data": {
      "image/png": "[encoded data removed]",
      "text/plain": [
       "<Figure size 432x288 with 1 Axes>"
      ]
     },
     "metadata": {
      "needs_background": "light"
     },
     "output_type": "display_data"
    }
   ],
   "source": [
    "data.boxplot(column='Average_US_viewers_millions', by='Season')"
   ]
  },
  {
   "cell_type": "code",
   "execution_count": 23,
   "metadata": {},
   "outputs": [
    {
     "data": {
      "text/plain": [
       "Text(0.5, 1.0, 'Popularity by Season')"
      ]
     },
     "execution_count": 23,
     "metadata": {},
     "output_type": "execute_result"
    },
    {
     "data": {
      "image/png": "[encoded data removed]",
      "text/plain": [
       "<Figure size 432x288 with 1 Axes>"
      ]
     },
     "metadata": {
      "needs_background": "light"
     },
     "output_type": "display_data"
    }
   ],
   "source": [
    "plt.plot(data.Season,data.Average_US_viewers_millions,'o-',label='Popularity of GOT')\n",
    "plt.ylabel('Average U.S. Viewers (in millions)')\n",
    "plt.xlabel('Season')\n",
    "plt.legend(loc = 'lower right')\n",
    "plt.title('Popularity by Season')"
   ]
  },
  {
   "cell_type": "code",
   "execution_count": 24,
   "metadata": {},
   "outputs": [
    {
     "data": {
      "text/plain": [
       "Text(0.5, 1.0, 'Popularity by Year')"
      ]
     },
     "execution_count": 24,
     "metadata": {},
     "output_type": "execute_result"
    },
    {
     "data": {
      "image/png": "[encoded data removed]",
      "text/plain": [
       "<Figure size 432x288 with 1 Axes>"
      ]
     },
     "metadata": {
      "needs_background": "light"
     },
     "output_type": "display_data"
    }
   ],
   "source": [
    "plt.plot(data.First_Aired_Year,data.Average_US_viewers_millions,'o-',label='Popularity of GOT by Year')\n",
    "plt.xlabel('Year')\n",
    "plt.ylabel('Average U.S. Viewers (in millions)')\n",
    "plt.legend(loc = 'lower right')\n",
    "plt.title('Popularity by Year')"
   ]
  },
  {
   "cell_type": "code",
   "execution_count": 25,
   "metadata": {},
   "outputs": [
    {
     "data": {
      "text/plain": [
       "Text(0.5, 1.0, 'Popularity by Season')"
      ]
     },
     "execution_count": 25,
     "metadata": {},
     "output_type": "execute_result"
    },
    {
     "data": {
      "image/png": "[encoded data removed]",
      "text/plain": [
       "<Figure size 432x288 with 1 Axes>"
      ]
     },
     "metadata": {
      "needs_background": "light"
     },
     "output_type": "display_data"
    }
   ],
   "source": [
    "plt.scatter(data.Season,data.Average_US_viewers_millions,label='Popularity of GOT')\n",
    "plt.ylabel('Average U.S. Viewers (in millions)')\n",
    "plt.xlabel('Season')\n",
    "plt.legend(loc = 'lower right')\n",
    "plt.title('Popularity by Season')"
   ]
  },
  {
   "cell_type": "code",
   "execution_count": null,
   "metadata": {},
   "outputs": [],
   "source": []
  }
 ],
 "metadata": {
  "kernelspec": {
   "display_name": "Python 3",
   "language": "python",
   "name": "python3"
  },
  "language_info": {
   "codemirror_mode": {
    "name": "ipython",
    "version": 3
   },
   "file_extension": ".py",
   "mimetype": "text/x-python",
   "name": "python",
   "nbconvert_exporter": "python",
   "pygments_lexer": "ipython3",
   "version": "3.7.3"
  }
 },
 "nbformat": 4,
 "nbformat_minor": 2
}
