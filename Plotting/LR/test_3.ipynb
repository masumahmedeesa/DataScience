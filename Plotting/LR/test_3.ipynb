{
 "cells": [
  {
   "cell_type": "code",
   "execution_count": 1,
   "metadata": {},
   "outputs": [],
   "source": [
    "import numpy as np\n",
    "import pandas as pd\n",
    "from sklearn import linear_model, datasets\n",
    "import matplotlib.pyplot as plt\n",
    "import statsmodels.api as sm\n",
    "%matplotlib inline"
   ]
  },
  {
   "cell_type": "code",
   "execution_count": 3,
   "metadata": {},
   "outputs": [
    {
     "data": {
      "text/plain": [
       "(3, 1)"
      ]
     },
     "execution_count": 3,
     "metadata": {},
     "output_type": "execute_result"
    }
   ],
   "source": [
    "x_train = np.array([1,2,3])\n",
    "x_train = x_train.reshape(len(x_train),1)\n",
    "x_train.shape"
   ]
  },
  {
   "cell_type": "code",
   "execution_count": 5,
   "metadata": {},
   "outputs": [
    {
     "data": {
      "text/plain": [
       "(3, 1)"
      ]
     },
     "execution_count": 5,
     "metadata": {},
     "output_type": "execute_result"
    }
   ],
   "source": [
    "ones = np.ones((x_train.shape[0],1))\n",
    "ones.shape"
   ]
  },
  {
   "cell_type": "code",
   "execution_count": 13,
   "metadata": {},
   "outputs": [
    {
     "data": {
      "text/plain": [
       "array([[1., 1.],\n",
       "       [1., 2.],\n",
       "       [1., 3.]])"
      ]
     },
     "execution_count": 13,
     "metadata": {},
     "output_type": "execute_result"
    }
   ],
   "source": [
    "X = np.concatenate((ones,x_train),axis=1)\n",
    "X.shape\n",
    "X"
   ]
  },
  {
   "cell_type": "code",
   "execution_count": 14,
   "metadata": {},
   "outputs": [
    {
     "data": {
      "text/plain": [
       "(3, 1)"
      ]
     },
     "execution_count": 14,
     "metadata": {},
     "output_type": "execute_result"
    }
   ],
   "source": [
    "y_train = np.array([2,2,4])\n",
    "Y = y_train.reshape(len(y_train),1)\n",
    "Y.shape"
   ]
  },
  {
   "cell_type": "code",
   "execution_count": 15,
   "metadata": {},
   "outputs": [
    {
     "data": {
      "text/plain": [
       "array([[0.66666667],\n",
       "       [1.        ]])"
      ]
     },
     "execution_count": 15,
     "metadata": {},
     "output_type": "execute_result"
    }
   ],
   "source": [
    "l = np.dot(np.transpose(X),X)\n",
    "r = np.dot(np.transpose(X),Y)\n",
    "ans = np.dot(np.linalg.inv(l),r)\n",
    "ans"
   ]
  },
  {
   "cell_type": "code",
   "execution_count": 17,
   "metadata": {},
   "outputs": [
    {
     "data": {
      "text/plain": [
       "(array([0.66666667]), array([1.]))"
      ]
     },
     "execution_count": 17,
     "metadata": {},
     "output_type": "execute_result"
    }
   ],
   "source": [
    "x_train = np.array([1,2,3])\n",
    "y_train = np.array([2,2,4])\n",
    "def answer(x_train,y_train):\n",
    "    x_train = x_train.reshape(len(x_train),1)\n",
    "    ones = np.ones((x_train.shape[0],1))\n",
    "    X = np.concatenate((ones,x_train),axis=1)\n",
    "    Y = y_train.reshape(len(y_train),1)\n",
    "    l = np.dot(np.transpose(X),X)\n",
    "    r = np.dot(np.transpose(X),Y)\n",
    "    ans = np.dot(np.linalg.inv(l),r)\n",
    "    return ans\n",
    "\n",
    "first = answer(x_train,y_train)[0]\n",
    "second = answer(x_train,y_train)[1]\n",
    "(first,second)"
   ]
  },
  {
   "cell_type": "code",
   "execution_count": 20,
   "metadata": {},
   "outputs": [
    {
     "data": {
      "text/plain": [
       "(3, 1)"
      ]
     },
     "execution_count": 20,
     "metadata": {},
     "output_type": "execute_result"
    }
   ],
   "source": [
    "x_train = x_train.reshape(len(x_train),1)\n",
    "y_train = y_train.reshape(len(y_train),1)\n",
    "y_train.shape"
   ]
  },
  {
   "cell_type": "code",
   "execution_count": 21,
   "metadata": {},
   "outputs": [
    {
     "data": {
      "text/plain": [
       "[<matplotlib.lines.Line2D at 0x1c200eacc0>,\n",
       " <matplotlib.lines.Line2D at 0x1c200eae48>]"
      ]
     },
     "execution_count": 21,
     "metadata": {},
     "output_type": "execute_result"
    },
    {
     "data": {
      "image/png": "[encoded data removed]",
      "text/plain": [
       "<Figure size 432x288 with 1 Axes>"
      ]
     },
     "metadata": {
      "needs_background": "light"
     },
     "output_type": "display_data"
    }
   ],
   "source": [
    "equation = lambda x: first + x*second\n",
    "xfit = np.arange(0,4,0.05)\n",
    "yfit = equation(xfit)\n",
    "\n",
    "plt.plot(x_train, y_train, 'ko', xfit, yfit)"
   ]
  },
  {
   "cell_type": "code",
   "execution_count": 22,
   "metadata": {},
   "outputs": [
    {
     "name": "stdout",
     "output_type": "stream",
     "text": [
      "0.6666666666666677\n"
     ]
    }
   ],
   "source": [
    "x_train = np.array([1,2,3])\n",
    "y_train = np.array([2,2,4])\n",
    "x_train = x_train.reshape(len(x_train),1)\n",
    "y_train = y_train.reshape(len(y_train),1)\n",
    "X = sm.add_constant(x_train)\n",
    "t = sm.OLS(y_train,X)\n",
    "re = t.fit()\n",
    "print(re.params[0])"
   ]
  },
  {
   "cell_type": "code",
   "execution_count": 24,
   "metadata": {},
   "outputs": [
    {
     "data": {
      "text/plain": [
       "array([1.])"
      ]
     },
     "execution_count": 24,
     "metadata": {},
     "output_type": "execute_result"
    }
   ],
   "source": [
    "ss = linear_model.LinearRegression()\n",
    "results = ss.fit(x_train,y_train)\n",
    "ff = results.intercept_\n",
    "ff2 = results.coef_[0]\n",
    "ff2"
   ]
  },
  {
   "cell_type": "code",
   "execution_count": null,
   "metadata": {},
   "outputs": [],
   "source": []
  }
 ],
 "metadata": {
  "kernelspec": {
   "display_name": "Python 3",
   "language": "python",
   "name": "python3"
  },
  "language_info": {
   "codemirror_mode": {
    "name": "ipython",
    "version": 3
   },
   "file_extension": ".py",
   "mimetype": "text/x-python",
   "name": "python",
   "nbconvert_exporter": "python",
   "pygments_lexer": "ipython3",
   "version": "3.7.3"
  }
 },
 "nbformat": 4,
 "nbformat_minor": 2
}
